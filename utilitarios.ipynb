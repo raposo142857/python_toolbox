{
 "cells": [
  {
   "cell_type": "markdown",
   "metadata": {},
   "source": [
    "# Bibliotecas úteis"
   ]
  },
  {
   "cell_type": "markdown",
   "metadata": {},
   "source": [
    "## pdb - Debugger\n",
    "Para um programa em certo ponto para debugar"
   ]
  },
  {
   "cell_type": "code",
   "execution_count": 1,
   "metadata": {},
   "outputs": [
    {
     "name": "stdout",
     "output_type": "stream",
     "text": [
      "> \u001b[1;32mc:\\users\\gusta\\appdata\\local\\temp\\ipykernel_1276\\3010294616.py\u001b[0m(4)\u001b[0;36madd_to_life_universe_everything\u001b[1;34m()\u001b[0m\n",
      "\n",
      "42\n",
      "42\n",
      "> \u001b[1;32mc:\\users\\gusta\\appdata\\local\\temp\\ipykernel_1276\\3010294616.py\u001b[0m(6)\u001b[0;36madd_to_life_universe_everything\u001b[1;34m()\u001b[0m\n",
      "\n",
      "--Return--\n",
      "54\n",
      "> \u001b[1;32mc:\\users\\gusta\\appdata\\local\\temp\\ipykernel_1276\\3010294616.py\u001b[0m(6)\u001b[0;36madd_to_life_universe_everything\u001b[1;34m()\u001b[0m\n",
      "\n",
      "1\n",
      "2\n",
      "\n",
      "Documented commands (type help <topic>):\n",
      "========================================\n",
      "EOF    commands   enable    ll        pp       s                until \n",
      "a      condition  exit      longlist  psource  skip_hidden      up    \n",
      "alias  cont       h         n         q        skip_predicates  w     \n",
      "args   context    help      next      quit     source           whatis\n",
      "b      continue   ignore    p         r        step             where \n",
      "break  d          interact  pdef      restart  tbreak         \n",
      "bt     debug      j         pdoc      return   u              \n",
      "c      disable    jump      pfile     retval   unalias        \n",
      "cl     display    l         pinfo     run      undisplay      \n",
      "clear  down       list      pinfo2    rv       unt            \n",
      "\n",
      "Miscellaneous help topics:\n",
      "==========================\n",
      "exec  pdb\n",
      "\n",
      "\n",
      "Documented commands (type help <topic>):\n",
      "========================================\n",
      "EOF    commands   enable    ll        pp       s                until \n",
      "a      condition  exit      longlist  psource  skip_hidden      up    \n",
      "alias  cont       h         n         q        skip_predicates  w     \n",
      "args   context    help      next      quit     source           whatis\n",
      "b      continue   ignore    p         r        step             where \n",
      "break  d          interact  pdef      restart  tbreak         \n",
      "bt     debug      j         pdoc      return   u              \n",
      "c      disable    jump      pfile     retval   unalias        \n",
      "cl     display    l         pinfo     run      undisplay      \n",
      "clear  down       list      pinfo2    rv       unt            \n",
      "\n",
      "Miscellaneous help topics:\n",
      "==========================\n",
      "exec  pdb\n",
      "\n",
      "54\n"
     ]
    },
    {
     "data": {
      "text/plain": [
       "54"
      ]
     },
     "execution_count": 1,
     "metadata": {},
     "output_type": "execute_result"
    }
   ],
   "source": [
    "# Basicamente adiciona um end_point e \"pausa\" o programa ali, c continua rodando\n",
    "# h help com comandos\n",
    "\n",
    "def add_to_life_universe_everything(x):\n",
    "    answer = 42\n",
    "    import pdb; pdb.set_trace()\n",
    "    answer += x\n",
    "    \n",
    "    return answer\n",
    "\n",
    "add_to_life_universe_everything(12)"
   ]
  },
  {
   "cell_type": "markdown",
   "metadata": {},
   "source": [
    "## pathlib\n",
    "Cria objetos \"path\" que funcionam em qualquer sistema operacional"
   ]
  },
  {
   "cell_type": "code",
   "execution_count": 5,
   "metadata": {},
   "outputs": [
    {
     "name": "stdout",
     "output_type": "stream",
     "text": [
      "['..\\\\\\\\..\\\\\\\\..\\\\\\\\Videos e Fotos\\\\\\\\\\n', '..\\\\\\\\templates_e_auxiliares\\\\\\\\Smiller - Paciente - nº1234 - TESTES.pptx\\n', '..\\\\\\\\..\\\\\\\\..\\\\\\\\Planejamentos\\\\\\\\Smiller - \\n', '..\\\\\\\\templates_e_auxiliares\\\\\\\\icone_attach.png\\n', '..\\\\\\\\templates_e_auxiliares\\\\\\\\icone_aus.png\\n', '..\\\\\\\\templates_e_auxiliares\\\\\\\\template_msg_whats.docx\\n', '..\\\\\\\\..\\\\\\\\..\\\\\\\\Planejamentos\\\\\\\\\\n', '..\\\\\\\\templates_e_auxiliares\\\\\\\\icone_but.png\\n', '\\n', '1° path: Pasta onde serao colados os prints e de onde eles serao puxados posteriormente\\n', '2° path: Local do arquivo do template do pdf em formato pptx COM O NOME DO ARQUIVO\\n', '3° path: Local onde sera salvo o arquivo pptx alterado. Importante: deve conter o \"Smiller - \"\\n', '4° path: Pasta de origem do icone do attachment que sera incluido no pptx COM O NOME DO ARQUIVO\\n', '5° path: Pasta de origem do icone dos dentes ausentes que sera incluido no pptx COM O NOME DO ARQUIVO\\n', '6° path: Pasta de origem do template da mensagem do Whatsapp COM NOME DO ARQUIVO\\n', '7° path: Pasta de destino da mensagem do Whatsapp ja corrigida\\n', '8° path: Pasta de origem do icone dos botoes que sera incluido no pptx COM O NOME DO ARQUIVO']\n",
      "C:Users\\gusta\\OneDrive\\Desktop\\Cria Wireless\\Planejamentos\\robocria_merge\\paths.txt\n"
     ]
    }
   ],
   "source": [
    "import pathlib\n",
    "\n",
    "path = pathlib.Path('C:') / 'Users' / 'gusta' / 'OneDrive' / 'Desktop' / 'Cria Wireless' / 'Planejamentos' / 'robocria_merge' / 'paths.txt' # O arquivos paths.txt foi coincidencia, só peguei um txt aleatório pra ler kkkk\n",
    "\n",
    "with open(path, 'r') as f:\n",
    "    print(f.readlines())\n",
    "\n",
    "print(path)"
   ]
  },
  {
   "cell_type": "markdown",
   "metadata": {},
   "source": [
    "## pendulum\n",
    "Lida com datas, muito bom para diferença entre datas e fuso-horários"
   ]
  },
  {
   "cell_type": "code",
   "execution_count": 6,
   "metadata": {},
   "outputs": [],
   "source": [
    "import pendulum\n",
    "\n",
    "D0_date = pendulum.now().strftime(\"%Y-%m-%d\")\n",
    "Dm3_date = pendulum.now().add(days=3).strftime(\"%Y-%m-%d\")\n",
    "DM3_date = pendulum.now().subtract(days=3).strftime(\"%Y-%m-%d\")"
   ]
  },
  {
   "cell_type": "markdown",
   "metadata": {},
   "source": [
    "## sketch\n",
    "Literalmente responde perguntas sobre dataframes, e pode gerar scripts com o método howto"
   ]
  },
  {
   "cell_type": "code",
   "execution_count": 17,
   "metadata": {},
   "outputs": [
    {
     "data": {
      "text/html": [
       "\n",
       "Female: 2.59\n",
       "Male: 2.64\n"
      ],
      "text/plain": [
       "<IPython.core.display.HTML object>"
      ]
     },
     "metadata": {},
     "output_type": "display_data"
    },
    {
     "name": "stdout",
     "output_type": "stream",
     "text": [
      "None\n"
     ]
    },
    {
     "data": {
      "text/html": [
       "<div style=\"display:flex;flex-direction:row;justify-content:space-between;\">\n",
       "                <pre style=\"width: 100%; white-space: pre-wrap;\" id=\"873f251a-ef06-4860-9b57-905bc3450eaf\">\n",
       "import seaborn as sns\n",
       "\n",
       "# Create a barplot of the mean of 'size' along the months, hued by 'sex'\n",
       "sns.barplot(x='day', y='size', hue='sex', data=tips)\n",
       "</pre>\n",
       "                <button style=\"height: fit-content;\" onclick=\"navigator.clipboard.writeText(JSON.parse(atob(`IlxuaW1wb3J0IHNlYWJvcm4gYXMgc25zXG5cbiMgQ3JlYXRlIGEgYmFycGxvdCBvZiB0aGUgbWVhbiBvZiAnc2l6ZScgYWxvbmcgdGhlIG1vbnRocywgaHVlZCBieSAnc2V4J1xuc25zLmJhcnBsb3QoeD0nZGF5JywgeT0nc2l6ZScsIGh1ZT0nc2V4JywgZGF0YT10aXBzKVxuIg==`)))\">Copy</button>\n",
       "                </div>"
      ],
      "text/plain": [
       "<IPython.core.display.HTML object>"
      ]
     },
     "metadata": {},
     "output_type": "display_data"
    },
    {
     "name": "stdout",
     "output_type": "stream",
     "text": [
      "None\n"
     ]
    },
    {
     "name": "stderr",
     "output_type": "stream",
     "text": [
      "c:\\Users\\gusta\\Anaconda3\\lib\\site-packages\\seaborn\\_core.py:1225: FutureWarning: is_categorical_dtype is deprecated and will be removed in a future version. Use isinstance(dtype, CategoricalDtype) instead\n",
      "  if pd.api.types.is_categorical_dtype(vector):\n",
      "c:\\Users\\gusta\\Anaconda3\\lib\\site-packages\\seaborn\\categorical.py:253: FutureWarning: The default of observed=False is deprecated and will be changed to True in a future version of pandas. Pass observed=False to retain current behavior or observed=True to adopt the future default and silence this warning.\n",
      "  grouped_vals = vals.groupby(grouper)\n"
     ]
    },
    {
     "data": {
      "text/plain": [
       "<Axes: xlabel='day', ylabel='size'>"
      ]
     },
     "execution_count": 17,
     "metadata": {},
     "output_type": "execute_result"
    },
    {
     "data": {
      "image/png": "[encoded data removed]",
      "text/plain": [
       "<Figure size 432x288 with 1 Axes>"
      ]
     },
     "metadata": {
      "needs_background": "light"
     },
     "output_type": "display_data"
    }
   ],
   "source": [
    "import seaborn as sns\n",
    "import sketch\n",
    "\n",
    "tips = sns.load_dataset(\"tips\") # Carrega a base de gorjetas\n",
    "\n",
    "print(tips.sketch.ask(\"Get the mean of the column 'size' for each 'sex'\"))\n",
    "\n",
    "print(tips.sketch.howto(\"How to make a barplot of the mean of 'size' along the months, but hued by 'sex'?\"))\n"
   ]
  },
  {
   "cell_type": "markdown",
   "metadata": {},
   "source": [
    "## icecream - Debug\n",
    "\n",
    "Faz um print com informações da variável automaticamente"
   ]
  },
  {
   "cell_type": "code",
   "execution_count": 3,
   "metadata": {},
   "outputs": [
    {
     "name": "stderr",
     "output_type": "stream",
     "text": [
      "2023-10-03 08:07:35.758459|> Error: Failed to access the underlying source code for analysis. Was ic() invoked in a REPL (e.g. from the command line), a frozen application (e.g. packaged with PyInstaller), or did the underlying source code change during execution?\n",
      "2023-10-03 08:07:36.862964|> Error: Failed to access the underlying source code for analysis. Was ic() invoked in a REPL (e.g. from the command line), a frozen application (e.g. packaged with PyInstaller), or did the underlying source code change during execution?\n",
      "2023-10-03 08:07:38.098822|> Error: Failed to access the underlying source code for analysis. Was ic() invoked in a REPL (e.g. from the command line), a frozen application (e.g. packaged with PyInstaller), or did the underlying source code change during execution?\n"
     ]
    }
   ],
   "source": [
    "from datetime import datetime\n",
    "from icecream import ic \n",
    "import time\n",
    "\t\n",
    "def time_format():\n",
    "    return f'{datetime.now()}|> '\n",
    "\t\n",
    "ic.configureOutput(prefix=time_format, includeContext=True)\n",
    "\t\n",
    "for _ in range(3):\n",
    "    time.sleep(1)\n",
    "    ic('Hello')"
   ]
  },
  {
   "cell_type": "markdown",
   "metadata": {},
   "source": [
    "## inspect\n",
    "Verifica a origem das coisas no código"
   ]
  },
  {
   "cell_type": "code",
   "execution_count": 1,
   "metadata": {},
   "outputs": [
    {
     "name": "stdout",
     "output_type": "stream",
     "text": [
      "def add(x, y): \n",
      "  return x + y \n",
      "\n"
     ]
    }
   ],
   "source": [
    "import inspect \n",
    "\n",
    "## add function present in python_functions.py file \n",
    "def add(x, y): \n",
    "  return x + y \n",
    "\n",
    "## you want to inspect it in analysis.py file\n",
    "print(inspect.getsource(add))"
   ]
  },
  {
   "cell_type": "markdown",
   "metadata": {},
   "source": [
    "## pprint\n",
    "Faz pretty print"
   ]
  },
  {
   "cell_type": "code",
   "execution_count": 2,
   "metadata": {},
   "outputs": [
    {
     "name": "stdout",
     "output_type": "stream",
     "text": [
      "{'address': {'city': 'New York', 'state': 'NY', 'street': 'Main St'},\n",
      " 'age': 30,\n",
      " 'name': 'John'}\n"
     ]
    }
   ],
   "source": [
    "from pprint import pprint\n",
    "\n",
    "data = {\n",
    "    'name': 'John',\n",
    "    'age': 30,\n",
    "    'address': {\n",
    "        'street': 'Main St',\n",
    "        'city': 'New York',\n",
    "        'state': 'NY'\n",
    "    }\n",
    "}\n",
    "pprint(data)"
   ]
  },
  {
   "cell_type": "markdown",
   "metadata": {},
   "source": [
    "## pytesseract\n",
    "Extrair texto de imagem"
   ]
  },
  {
   "cell_type": "code",
   "execution_count": 2,
   "metadata": {},
   "outputs": [
    {
     "ename": "TesseractNotFoundError",
     "evalue": "tesseract is not installed or it's not in your PATH. See README file for more information.",
     "output_type": "error",
     "traceback": [
      "\u001b[1;31m---------------------------------------------------------------------------\u001b[0m",
      "\u001b[1;31mFileNotFoundError\u001b[0m                         Traceback (most recent call last)",
      "File \u001b[1;32mc:\\Users\\gusta\\Anaconda3\\lib\\site-packages\\pytesseract\\pytesseract.py:255\u001b[0m, in \u001b[0;36mrun_tesseract\u001b[1;34m(input_filename, output_filename_base, extension, lang, config, nice, timeout)\u001b[0m\n\u001b[0;32m    254\u001b[0m \u001b[39mtry\u001b[39;00m:\n\u001b[1;32m--> 255\u001b[0m     proc \u001b[39m=\u001b[39m subprocess\u001b[39m.\u001b[39mPopen(cmd_args, \u001b[39m*\u001b[39m\u001b[39m*\u001b[39msubprocess_args())\n\u001b[0;32m    256\u001b[0m \u001b[39mexcept\u001b[39;00m \u001b[39mOSError\u001b[39;00m \u001b[39mas\u001b[39;00m e:\n",
      "File \u001b[1;32mc:\\Users\\gusta\\Anaconda3\\lib\\subprocess.py:951\u001b[0m, in \u001b[0;36mPopen.__init__\u001b[1;34m(self, args, bufsize, executable, stdin, stdout, stderr, preexec_fn, close_fds, shell, cwd, env, universal_newlines, startupinfo, creationflags, restore_signals, start_new_session, pass_fds, user, group, extra_groups, encoding, errors, text, umask)\u001b[0m\n\u001b[0;32m    948\u001b[0m             \u001b[39mself\u001b[39m\u001b[39m.\u001b[39mstderr \u001b[39m=\u001b[39m io\u001b[39m.\u001b[39mTextIOWrapper(\u001b[39mself\u001b[39m\u001b[39m.\u001b[39mstderr,\n\u001b[0;32m    949\u001b[0m                     encoding\u001b[39m=\u001b[39mencoding, errors\u001b[39m=\u001b[39merrors)\n\u001b[1;32m--> 951\u001b[0m     \u001b[39mself\u001b[39;49m\u001b[39m.\u001b[39;49m_execute_child(args, executable, preexec_fn, close_fds,\n\u001b[0;32m    952\u001b[0m                         pass_fds, cwd, env,\n\u001b[0;32m    953\u001b[0m                         startupinfo, creationflags, shell,\n\u001b[0;32m    954\u001b[0m                         p2cread, p2cwrite,\n\u001b[0;32m    955\u001b[0m                         c2pread, c2pwrite,\n\u001b[0;32m    956\u001b[0m                         errread, errwrite,\n\u001b[0;32m    957\u001b[0m                         restore_signals,\n\u001b[0;32m    958\u001b[0m                         gid, gids, uid, umask,\n\u001b[0;32m    959\u001b[0m                         start_new_session)\n\u001b[0;32m    960\u001b[0m \u001b[39mexcept\u001b[39;00m:\n\u001b[0;32m    961\u001b[0m     \u001b[39m# Cleanup if the child failed starting.\u001b[39;00m\n",
      "File \u001b[1;32mc:\\Users\\gusta\\Anaconda3\\lib\\subprocess.py:1420\u001b[0m, in \u001b[0;36mPopen._execute_child\u001b[1;34m(self, args, executable, preexec_fn, close_fds, pass_fds, cwd, env, startupinfo, creationflags, shell, p2cread, p2cwrite, c2pread, c2pwrite, errread, errwrite, unused_restore_signals, unused_gid, unused_gids, unused_uid, unused_umask, unused_start_new_session)\u001b[0m\n\u001b[0;32m   1419\u001b[0m \u001b[39mtry\u001b[39;00m:\n\u001b[1;32m-> 1420\u001b[0m     hp, ht, pid, tid \u001b[39m=\u001b[39m _winapi\u001b[39m.\u001b[39;49mCreateProcess(executable, args,\n\u001b[0;32m   1421\u001b[0m                              \u001b[39m# no special security\u001b[39;49;00m\n\u001b[0;32m   1422\u001b[0m                              \u001b[39mNone\u001b[39;49;00m, \u001b[39mNone\u001b[39;49;00m,\n\u001b[0;32m   1423\u001b[0m                              \u001b[39mint\u001b[39;49m(\u001b[39mnot\u001b[39;49;00m close_fds),\n\u001b[0;32m   1424\u001b[0m                              creationflags,\n\u001b[0;32m   1425\u001b[0m                              env,\n\u001b[0;32m   1426\u001b[0m                              cwd,\n\u001b[0;32m   1427\u001b[0m                              startupinfo)\n\u001b[0;32m   1428\u001b[0m \u001b[39mfinally\u001b[39;00m:\n\u001b[0;32m   1429\u001b[0m     \u001b[39m# Child is launched. Close the parent's copy of those pipe\u001b[39;00m\n\u001b[0;32m   1430\u001b[0m     \u001b[39m# handles that only the child should have open.  You need\u001b[39;00m\n\u001b[1;32m   (...)\u001b[0m\n\u001b[0;32m   1433\u001b[0m     \u001b[39m# pipe will not close when the child process exits and the\u001b[39;00m\n\u001b[0;32m   1434\u001b[0m     \u001b[39m# ReadFile will hang.\u001b[39;00m\n",
      "\u001b[1;31mFileNotFoundError\u001b[0m: [WinError 2] The system cannot find the file specified",
      "\nDuring handling of the above exception, another exception occurred:\n",
      "\u001b[1;31mTesseractNotFoundError\u001b[0m                    Traceback (most recent call last)",
      "\u001b[1;32mSmiller - Central\\analytics-smiller\\Python\\Experimentos\\gaussin's_toolbox.ipynb Cell 58\u001b[0m line \u001b[0;36m<cell line: 8>\u001b[1;34m()\u001b[0m\n\u001b[0;32m      <a href='vscode-notebook-cell://centralsmiller/Smiller%20-%20Central/analytics-smiller/Python/Experimentos/gaussin%27s_toolbox.ipynb#Y152sZmlsZQ%3D%3D?line=4'>5</a>\u001b[0m image \u001b[39m=\u001b[39m Image\u001b[39m.\u001b[39mopen(\u001b[39m'\u001b[39m\u001b[39mprintBI.png\u001b[39m\u001b[39m'\u001b[39m)\n\u001b[0;32m      <a href='vscode-notebook-cell://centralsmiller/Smiller%20-%20Central/analytics-smiller/Python/Experimentos/gaussin%27s_toolbox.ipynb#Y152sZmlsZQ%3D%3D?line=6'>7</a>\u001b[0m \u001b[39m# Perform OCR using PyTesseract\u001b[39;00m\n\u001b[1;32m----> <a href='vscode-notebook-cell://centralsmiller/Smiller%20-%20Central/analytics-smiller/Python/Experimentos/gaussin%27s_toolbox.ipynb#Y152sZmlsZQ%3D%3D?line=7'>8</a>\u001b[0m text \u001b[39m=\u001b[39m pytesseract\u001b[39m.\u001b[39;49mimage_to_string(image)\n\u001b[0;32m     <a href='vscode-notebook-cell://centralsmiller/Smiller%20-%20Central/analytics-smiller/Python/Experimentos/gaussin%27s_toolbox.ipynb#Y152sZmlsZQ%3D%3D?line=9'>10</a>\u001b[0m \u001b[39m# Print the extracted text\u001b[39;00m\n\u001b[0;32m     <a href='vscode-notebook-cell://centralsmiller/Smiller%20-%20Central/analytics-smiller/Python/Experimentos/gaussin%27s_toolbox.ipynb#Y152sZmlsZQ%3D%3D?line=10'>11</a>\u001b[0m \u001b[39mprint\u001b[39m(text)\n",
      "File \u001b[1;32mc:\\Users\\gusta\\Anaconda3\\lib\\site-packages\\pytesseract\\pytesseract.py:423\u001b[0m, in \u001b[0;36mimage_to_string\u001b[1;34m(image, lang, config, nice, output_type, timeout)\u001b[0m\n\u001b[0;32m    418\u001b[0m \u001b[39m\u001b[39m\u001b[39m\"\"\"\u001b[39;00m\n\u001b[0;32m    419\u001b[0m \u001b[39mReturns the result of a Tesseract OCR run on the provided image to string\u001b[39;00m\n\u001b[0;32m    420\u001b[0m \u001b[39m\"\"\"\u001b[39;00m\n\u001b[0;32m    421\u001b[0m args \u001b[39m=\u001b[39m [image, \u001b[39m'\u001b[39m\u001b[39mtxt\u001b[39m\u001b[39m'\u001b[39m, lang, config, nice, timeout]\n\u001b[1;32m--> 423\u001b[0m \u001b[39mreturn\u001b[39;00m {\n\u001b[0;32m    424\u001b[0m     Output\u001b[39m.\u001b[39;49mBYTES: \u001b[39mlambda\u001b[39;49;00m: run_and_get_output(\u001b[39m*\u001b[39;49m(args \u001b[39m+\u001b[39;49m [\u001b[39mTrue\u001b[39;49;00m])),\n\u001b[0;32m    425\u001b[0m     Output\u001b[39m.\u001b[39;49mDICT: \u001b[39mlambda\u001b[39;49;00m: {\u001b[39m'\u001b[39;49m\u001b[39mtext\u001b[39;49m\u001b[39m'\u001b[39;49m: run_and_get_output(\u001b[39m*\u001b[39;49margs)},\n\u001b[0;32m    426\u001b[0m     Output\u001b[39m.\u001b[39;49mSTRING: \u001b[39mlambda\u001b[39;49;00m: run_and_get_output(\u001b[39m*\u001b[39;49margs),\n\u001b[0;32m    427\u001b[0m }[output_type]()\n",
      "File \u001b[1;32mc:\\Users\\gusta\\Anaconda3\\lib\\site-packages\\pytesseract\\pytesseract.py:426\u001b[0m, in \u001b[0;36mimage_to_string.<locals>.<lambda>\u001b[1;34m()\u001b[0m\n\u001b[0;32m    418\u001b[0m \u001b[39m\u001b[39m\u001b[39m\"\"\"\u001b[39;00m\n\u001b[0;32m    419\u001b[0m \u001b[39mReturns the result of a Tesseract OCR run on the provided image to string\u001b[39;00m\n\u001b[0;32m    420\u001b[0m \u001b[39m\"\"\"\u001b[39;00m\n\u001b[0;32m    421\u001b[0m args \u001b[39m=\u001b[39m [image, \u001b[39m'\u001b[39m\u001b[39mtxt\u001b[39m\u001b[39m'\u001b[39m, lang, config, nice, timeout]\n\u001b[0;32m    423\u001b[0m \u001b[39mreturn\u001b[39;00m {\n\u001b[0;32m    424\u001b[0m     Output\u001b[39m.\u001b[39mBYTES: \u001b[39mlambda\u001b[39;00m: run_and_get_output(\u001b[39m*\u001b[39m(args \u001b[39m+\u001b[39m [\u001b[39mTrue\u001b[39;00m])),\n\u001b[0;32m    425\u001b[0m     Output\u001b[39m.\u001b[39mDICT: \u001b[39mlambda\u001b[39;00m: {\u001b[39m'\u001b[39m\u001b[39mtext\u001b[39m\u001b[39m'\u001b[39m: run_and_get_output(\u001b[39m*\u001b[39margs)},\n\u001b[1;32m--> 426\u001b[0m     Output\u001b[39m.\u001b[39mSTRING: \u001b[39mlambda\u001b[39;00m: run_and_get_output(\u001b[39m*\u001b[39;49margs),\n\u001b[0;32m    427\u001b[0m }[output_type]()\n",
      "File \u001b[1;32mc:\\Users\\gusta\\Anaconda3\\lib\\site-packages\\pytesseract\\pytesseract.py:288\u001b[0m, in \u001b[0;36mrun_and_get_output\u001b[1;34m(image, extension, lang, config, nice, timeout, return_bytes)\u001b[0m\n\u001b[0;32m    277\u001b[0m \u001b[39mwith\u001b[39;00m save(image) \u001b[39mas\u001b[39;00m (temp_name, input_filename):\n\u001b[0;32m    278\u001b[0m     kwargs \u001b[39m=\u001b[39m {\n\u001b[0;32m    279\u001b[0m         \u001b[39m'\u001b[39m\u001b[39minput_filename\u001b[39m\u001b[39m'\u001b[39m: input_filename,\n\u001b[0;32m    280\u001b[0m         \u001b[39m'\u001b[39m\u001b[39moutput_filename_base\u001b[39m\u001b[39m'\u001b[39m: temp_name,\n\u001b[1;32m   (...)\u001b[0m\n\u001b[0;32m    285\u001b[0m         \u001b[39m'\u001b[39m\u001b[39mtimeout\u001b[39m\u001b[39m'\u001b[39m: timeout,\n\u001b[0;32m    286\u001b[0m     }\n\u001b[1;32m--> 288\u001b[0m     run_tesseract(\u001b[39m*\u001b[39m\u001b[39m*\u001b[39mkwargs)\n\u001b[0;32m    289\u001b[0m     filename \u001b[39m=\u001b[39m \u001b[39mf\u001b[39m\u001b[39m\"\u001b[39m\u001b[39m{\u001b[39;00mkwargs[\u001b[39m'\u001b[39m\u001b[39moutput_filename_base\u001b[39m\u001b[39m'\u001b[39m]\u001b[39m}\u001b[39;00m\u001b[39m{\u001b[39;00mextsep\u001b[39m}\u001b[39;00m\u001b[39m{\u001b[39;00mextension\u001b[39m}\u001b[39;00m\u001b[39m\"\u001b[39m\n\u001b[0;32m    290\u001b[0m     \u001b[39mwith\u001b[39;00m \u001b[39mopen\u001b[39m(filename, \u001b[39m'\u001b[39m\u001b[39mrb\u001b[39m\u001b[39m'\u001b[39m) \u001b[39mas\u001b[39;00m output_file:\n",
      "File \u001b[1;32mc:\\Users\\gusta\\Anaconda3\\lib\\site-packages\\pytesseract\\pytesseract.py:260\u001b[0m, in \u001b[0;36mrun_tesseract\u001b[1;34m(input_filename, output_filename_base, extension, lang, config, nice, timeout)\u001b[0m\n\u001b[0;32m    258\u001b[0m         \u001b[39mraise\u001b[39;00m\n\u001b[0;32m    259\u001b[0m     \u001b[39melse\u001b[39;00m:\n\u001b[1;32m--> 260\u001b[0m         \u001b[39mraise\u001b[39;00m TesseractNotFoundError()\n\u001b[0;32m    262\u001b[0m \u001b[39mwith\u001b[39;00m timeout_manager(proc, timeout) \u001b[39mas\u001b[39;00m error_string:\n\u001b[0;32m    263\u001b[0m     \u001b[39mif\u001b[39;00m proc\u001b[39m.\u001b[39mreturncode:\n",
      "\u001b[1;31mTesseractNotFoundError\u001b[0m: tesseract is not installed or it's not in your PATH. See README file for more information."
     ]
    }
   ],
   "source": [
    "import pytesseract\n",
    "from PIL import Image\n",
    "\n",
    "# Open the image file\n",
    "image = Image.open('printBI.png')\n",
    "\n",
    "# Perform OCR using PyTesseract\n",
    "text = pytesseract.image_to_string(image)\n",
    "\n",
    "# Print the extracted text\n",
    "print(text)"
   ]
  },
  {
   "cell_type": "markdown",
   "metadata": {},
   "source": [
    "## taipy - WebApps com facilidade\n",
    "Biblioteca para criar webapps com pouco código"
   ]
  },
  {
   "cell_type": "code",
   "execution_count": 1,
   "metadata": {},
   "outputs": [],
   "source": [
    "from taipy import Gui"
   ]
  },
  {
   "cell_type": "code",
   "execution_count": 3,
   "metadata": {},
   "outputs": [
    {
     "name": "stdout",
     "output_type": "stream",
     "text": [
      "[2023-10-27 15:52:44][Taipy][INFO] Running in 'single_client' mode in notebook environment\n",
      "[2023-10-27 15:52:48][Taipy][INFO] Gui server has been stopped.\n",
      "[2023-10-27 15:52:48][Taipy][INFO]  * Server starting on http://127.0.0.1:5000\n"
     ]
    },
    {
     "name": "stderr",
     "output_type": "stream",
     "text": [
      "UserWarning: libuv only supports millisecond timer resolution; all times less will be set to 1 ms\n"
     ]
    },
    {
     "name": "stderr",
     "output_type": "stream",
     "text": [
      "Unhandled Error\n",
      "Traceback (most recent call last):\n",
      "  File \"c:\\Users\\gusta\\Anaconda3\\lib\\site-packages\\twisted\\python\\log.py\", line 96, in callWithLogger\n",
      "    return callWithContext({\"system\": lp}, func, *args, **kw)\n",
      "  File \"c:\\Users\\gusta\\Anaconda3\\lib\\site-packages\\twisted\\python\\log.py\", line 80, in callWithContext\n",
      "    return context.call({ILogContext: newCtx}, func, *args, **kw)\n",
      "  File \"c:\\Users\\gusta\\Anaconda3\\lib\\site-packages\\twisted\\python\\context.py\", line 117, in callWithContext\n",
      "    return self.currentContext().callWithContext(ctx, func, *args, **kw)\n",
      "  File \"c:\\Users\\gusta\\Anaconda3\\lib\\site-packages\\twisted\\python\\context.py\", line 82, in callWithContext\n",
      "    return func(*args, **kw)\n",
      "--- <exception caught here> ---\n",
      "  File \"c:\\Users\\gusta\\Anaconda3\\lib\\site-packages\\twisted\\internet\\selectreactor.py\", line 148, in _doReadOrWrite\n",
      "    why = getattr(selectable, method)()\n",
      "  File \"c:\\Users\\gusta\\Anaconda3\\lib\\site-packages\\twisted\\internet\\tcp.py\", line 577, in doConnect\n",
      "    self.failIfNotConnected(error.getConnectError((err, strerror(err))))\n",
      "  File \"c:\\Users\\gusta\\Anaconda3\\lib\\site-packages\\twisted\\internet\\tcp.py\", line 485, in failIfNotConnected\n",
      "    self.connector.connectionFailed(failure.Failure(err))\n",
      "  File \"c:\\Users\\gusta\\Anaconda3\\lib\\site-packages\\twisted\\internet\\base.py\", line 1295, in connectionFailed\n",
      "    self.factory.clientConnectionFailed(self, reason)\n",
      "  File \"c:\\Users\\gusta\\Anaconda3\\lib\\site-packages\\twisted\\web\\proxy.py\", line 115, in clientConnectionFailed\n",
      "    self.father.finish()\n",
      "  File \"c:\\Users\\gusta\\Anaconda3\\lib\\site-packages\\twisted\\web\\server.py\", line 277, in finish\n",
      "    return http.Request.finish(self)\n",
      "  File \"c:\\Users\\gusta\\Anaconda3\\lib\\site-packages\\twisted\\web\\http.py\", line 1161, in finish\n",
      "    raise RuntimeError(\n",
      "builtins.RuntimeError: Request.finish called on a request after its connection was lost; use Request.notifyFinish to keep track of this.\n",
      "\n",
      "Unhandled Error\n",
      "Traceback (most recent call last):\n",
      "  File \"c:\\Users\\gusta\\Anaconda3\\lib\\threading.py\", line 910, in run\n",
      "    self._target(*self._args, **self._kwargs)\n",
      "  File \"c:\\Users\\gusta\\Anaconda3\\lib\\site-packages\\twisted\\internet\\base.py\", line 693, in run\n",
      "    self.mainLoop()\n",
      "  File \"c:\\Users\\gusta\\Anaconda3\\lib\\site-packages\\twisted\\internet\\base.py\", line 706, in mainLoop\n",
      "    self.doIteration(t)\n",
      "  File \"c:\\Users\\gusta\\Anaconda3\\lib\\site-packages\\twisted\\internet\\selectreactor.py\", line 142, in doSelect\n",
      "    _logrun(selectable, _drdw, selectable, method)\n",
      "--- <exception caught here> ---\n",
      "  File \"c:\\Users\\gusta\\Anaconda3\\lib\\site-packages\\twisted\\python\\log.py\", line 96, in callWithLogger\n",
      "    return callWithContext({\"system\": lp}, func, *args, **kw)\n",
      "  File \"c:\\Users\\gusta\\Anaconda3\\lib\\site-packages\\twisted\\python\\log.py\", line 80, in callWithContext\n",
      "    return context.call({ILogContext: newCtx}, func, *args, **kw)\n",
      "  File \"c:\\Users\\gusta\\Anaconda3\\lib\\site-packages\\twisted\\python\\context.py\", line 117, in callWithContext\n",
      "    return self.currentContext().callWithContext(ctx, func, *args, **kw)\n",
      "  File \"c:\\Users\\gusta\\Anaconda3\\lib\\site-packages\\twisted\\python\\context.py\", line 82, in callWithContext\n",
      "    return func(*args, **kw)\n",
      "  File \"c:\\Users\\gusta\\Anaconda3\\lib\\site-packages\\twisted\\internet\\selectreactor.py\", line 153, in _doReadOrWrite\n",
      "    self._disconnectSelectable(selectable, why, method == \"doRead\")\n",
      "  File \"c:\\Users\\gusta\\Anaconda3\\lib\\site-packages\\twisted\\internet\\posixbase.py\", line 113, in _disconnectSelectable\n",
      "    selectable.connectionLost(failure.Failure(why))\n",
      "  File \"c:\\Users\\gusta\\Anaconda3\\lib\\site-packages\\twisted\\internet\\tcp.py\", line 506, in connectionLost\n",
      "    self.failIfNotConnected(error.ConnectError(string=reason))\n",
      "  File \"c:\\Users\\gusta\\Anaconda3\\lib\\site-packages\\twisted\\internet\\tcp.py\", line 485, in failIfNotConnected\n",
      "    self.connector.connectionFailed(failure.Failure(err))\n",
      "  File \"c:\\Users\\gusta\\Anaconda3\\lib\\site-packages\\twisted\\internet\\base.py\", line 1295, in connectionFailed\n",
      "    self.factory.clientConnectionFailed(self, reason)\n",
      "  File \"c:\\Users\\gusta\\Anaconda3\\lib\\site-packages\\twisted\\web\\proxy.py\", line 115, in clientConnectionFailed\n",
      "    self.father.finish()\n",
      "  File \"c:\\Users\\gusta\\Anaconda3\\lib\\site-packages\\twisted\\web\\server.py\", line 277, in finish\n",
      "    return http.Request.finish(self)\n",
      "  File \"c:\\Users\\gusta\\Anaconda3\\lib\\site-packages\\twisted\\web\\http.py\", line 1161, in finish\n",
      "    raise RuntimeError(\n",
      "builtins.RuntimeError: Request.finish called on a request after its connection was lost; use Request.notifyFinish to keep track of this.\n",
      "\n"
     ]
    }
   ],
   "source": [
    "## my_taipy_app.py\n",
    "\n",
    "name = \"Avi Chawla\"\n",
    "\n",
    "number = 100\n",
    "\n",
    "data = {\"Rating\":[1, 4, 3, 1, 3, 5, 2, 4, 2],\n",
    "        \"Salary\":[100, 450, 340, 120, 290, 600, 250, 430, 220]}\n",
    "\n",
    "\n",
    "page = \"\"\"\n",
    "# First Taipy Web Application.\n",
    "\n",
    "Hello: <|{name}|>\n",
    "\n",
    "Change Value: \n",
    "\n",
    "<|{number}|slider|>\n",
    "\n",
    "Data chart: <|{data}|chart|mode=markers|x=Rating|y=Salary|type=scatter|>\n",
    "\n",
    "DataFrame: <|{data}|table|>\n",
    "\"\"\"\n",
    "\n",
    "Gui(page=page).run()"
   ]
  },
  {
   "cell_type": "code",
   "execution_count": 1,
   "metadata": {},
   "outputs": [
    {
     "name": "stdout",
     "output_type": "stream",
     "text": [
      "[2023-10-27 16:00:53][Taipy][INFO] Development mode: Clean all entities of version 0ff8ffa2-aa1c-4026-a2ad-6827d4c9eda3\n",
      "[2023-10-27 16:00:55][Taipy][INFO] Running in 'single_client' mode in notebook environment\n",
      "[2023-10-27 16:01:00][Taipy][INFO]  * Server starting on http://127.0.0.1:5000\n"
     ]
    },
    {
     "name": "stderr",
     "output_type": "stream",
     "text": [
      "UserWarning: libuv only supports millisecond timer resolution; all times less will be set to 1 ms\n"
     ]
    },
    {
     "name": "stdout",
     "output_type": "stream",
     "text": [
      "[2023-10-27 16:01:47][Taipy][INFO] job JOB_build_msg_da76ea2b-7c01-430a-9a88-c2cf11bbf6c8 is completed.\n",
      "[2023-10-27 16:01:58][Taipy][INFO] job JOB_build_msg_2b0b2808-8284-40e4-9d96-69f3df4dd3e9 is completed.\n"
     ]
    }
   ],
   "source": [
    "import taipy as tp\n",
    "from taipy import Config, Core, Gui\n",
    "\n",
    "\n",
    "################################################################\n",
    "#            Configure application                             #\n",
    "################################################################\n",
    "def build_message(name):\n",
    "    return f\"Hello {name}!\"\n",
    "\n",
    "\n",
    "# A first data node configuration to model an input name.\n",
    "input_name_data_node_cfg = Config.configure_data_node(id=\"input_name\")\n",
    "# A second data node configuration to model the message to display.\n",
    "message_data_node_cfg = Config.configure_data_node(id=\"message\")\n",
    "# A task configuration to model the build_message function.\n",
    "build_msg_task_cfg = Config.configure_task(\"build_msg\", build_message, input_name_data_node_cfg, message_data_node_cfg)\n",
    "# The scenario configuration represents the whole execution graph.\n",
    "scenario_cfg = Config.configure_scenario(\"scenario\", task_configs=[build_msg_task_cfg])\n",
    "\n",
    "################################################################\n",
    "#            Design graphical interface                        #\n",
    "################################################################\n",
    "\n",
    "input_name = \"Taipy\"\n",
    "message = None\n",
    "\n",
    "\n",
    "def submit_scenario(state):\n",
    "    state.scenario.input_name.write(state.input_name)\n",
    "    state.scenario.submit()\n",
    "    state.message = scenario.message.read()\n",
    "\n",
    "page = \"\"\"\n",
    "Name: <|{input_name}|input|>\n",
    "\n",
    "<|submit|button|on_action=submit_scenario|>\n",
    "\n",
    "Message: <|{message}|text|>\n",
    "\"\"\"\n",
    "\n",
    "if __name__ == \"__main__\":\n",
    "    ################################################################\n",
    "    #            Instantiate and run Core service                  #\n",
    "    ################################################################\n",
    "    Core().run()\n",
    "\n",
    "    ################################################################\n",
    "    #            Manage scenarios and data nodes                   #\n",
    "    ################################################################\n",
    "    scenario = tp.create_scenario(scenario_cfg)\n",
    "\n",
    "    ################################################################\n",
    "    #            Instantiate and run Gui service                   #\n",
    "    ################################################################\n",
    "\n",
    "    Gui(page).run()\n",
    "\n"
   ]
  },
  {
   "cell_type": "markdown",
   "metadata": {},
   "source": [
    "### Mais um exemplo - dashboard"
   ]
  },
  {
   "cell_type": "code",
   "execution_count": null,
   "metadata": {},
   "outputs": [
    {
     "ename": "",
     "evalue": "",
     "output_type": "error",
     "traceback": [
      "\u001b[1;31mFailed to start the Kernel. \n",
      "\u001b[1;31mUnable to start Kernel 'base (Python 3.9.12)' due to a timeout waiting for the ports to get used. \n",
      "\u001b[1;31mView Jupyter <a href='command:jupyter.viewOutput'>log</a> for further details."
     ]
    }
   ],
   "source": [
    "### Carry over variables from previous sections\n",
    "from taipy.gui import Gui\n",
    "import pandas as pd\n",
    "penguin_file_url = \"https://raw.githubusercontent.com/allisonhorst/palmerpenguins/master/inst/extdata/penguins.csv\"\n",
    "penguin_df = pd.read_csv(penguin_file_url)\n",
    "###\n",
    "\n",
    "target_names = list(penguin_df.species.unique()) # [\"Adelie\", \"Gentoo\", \"Chinstrap\"]\n",
    "species = target_names[0] # \"Adelie\"\n",
    "\n",
    "penguin_species_selector = \"\"\"\n",
    "### Penguin species: \n",
    "\n",
    "<|{species}|selector|lov={target_names}|dropdown=True|width=100%|>\n",
    "\"\"\"\n",
    "\n",
    "Gui(page=penguin_species_selector).run(dark_mode=False)"
   ]
  }
 ],
 "metadata": {
  "kernelspec": {
   "display_name": "base",
   "language": "python",
   "name": "python3"
  },
  "language_info": {
   "codemirror_mode": {
    "name": "ipython",
    "version": 3
   },
   "file_extension": ".py",
   "mimetype": "text/x-python",
   "name": "python",
   "nbconvert_exporter": "python",
   "pygments_lexer": "ipython3",
   "version": "3.9.12"
  },
  "orig_nbformat": 4
 },
 "nbformat": 4,
 "nbformat_minor": 2
}
