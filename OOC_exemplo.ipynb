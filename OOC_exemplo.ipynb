{
 "cells": [
  {
   "cell_type": "markdown",
   "metadata": {},
   "source": [
    "# OOC - Exemplo"
   ]
  },
  {
   "cell_type": "code",
   "execution_count": 2,
   "metadata": {},
   "outputs": [],
   "source": [
    "# Cria a classe \"Dog\"\n",
    "class Dog:\n",
    "\n",
    "    #\n",
    "    species = \"Canis familiaris\"\n",
    "\n",
    "    def __init__(self, age, name=\"Junior\"):\n",
    "        self.name = name\n",
    "        self.age = age\n",
    "        self.__racao = \"Pedigree\"\n",
    "\n",
    "    def __str__(self):\n",
    "        return f\"{self.name} is {self.age} years old, and eats {self.__racao}\"\n",
    "\n",
    "    # Another instance method\n",
    "    def speak(self, sound):\n",
    "        return f\"{self.name} says {sound}\"\n",
    "    \n",
    "    def change_racao(self, racao):\n",
    "        self.__racao = racao"
   ]
  },
  {
   "cell_type": "code",
   "execution_count": 3,
   "metadata": {},
   "outputs": [
    {
     "name": "stdout",
     "output_type": "stream",
     "text": [
      "Junior\n",
      "5\n",
      "Canis familiaris\n",
      "Junior is 5 years old, and eats Pedigree\n",
      "Junior is 5 years old, and eats Pedigree\n",
      "Junior is 5 years old, and eats Purina\n",
      "Junior says auau\n"
     ]
    }
   ],
   "source": [
    "juraci_cao = Dog(age=\"5\")\n",
    "\n",
    "print(juraci_cao.name)\n",
    "print(juraci_cao.age)\n",
    "print(juraci_cao.species)\n",
    "\n",
    "print(juraci_cao)\n",
    "juraci_cao.__racao = \"Purina\"\n",
    "print(juraci_cao)\n",
    "juraci_cao.change_racao(\"Purina\")\n",
    "print(juraci_cao)\n",
    "\n",
    "print(juraci_cao.speak(\"auau\"))"
   ]
  }
 ],
 "metadata": {
  "kernelspec": {
   "display_name": "base",
   "language": "python",
   "name": "python3"
  },
  "language_info": {
   "codemirror_mode": {
    "name": "ipython",
    "version": 3
   },
   "file_extension": ".py",
   "mimetype": "text/x-python",
   "name": "python",
   "nbconvert_exporter": "python",
   "pygments_lexer": "ipython3",
   "version": "3.9.12"
  },
  "orig_nbformat": 4
 },
 "nbformat": 4,
 "nbformat_minor": 2
}
